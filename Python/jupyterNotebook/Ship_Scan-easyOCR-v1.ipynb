{
 "cells": [
  {
   "cell_type": "code",
   "execution_count": null,
   "id": "ea961fc5-2fb3-4d6d-a335-9d79e749d837",
   "metadata": {},
   "outputs": [],
   "source": [
    "import cv2\n",
    "import easyocr\n",
    "from matplotlib import pyplot as plt\n",
    "\n",
    "# Path to your image file\n",
    "image_path = './Ships/Azamara-3711.png'  # Adjust the path according to your file location in Colab\n",
    "\n",
    "# Read the image using OpenCV\n",
    "image = cv2.imread(image_path)\n",
    "\n",
    "# Display the image\n",
    "plt.imshow(cv2.cvtColor(image, cv2.COLOR_BGR2RGB))\n",
    "plt.title('Original Image')\n",
    "plt.axis('off')\n",
    "plt.show()\n"
   ]
  },
  {
   "cell_type": "code",
   "execution_count": null,
   "id": "854decb1-0810-4f40-9767-735e756ae85a",
   "metadata": {},
   "outputs": [],
   "source": [
    "# Convert the image to grayscale\n",
    "gray_image = cv2.cvtColor(image, cv2.COLOR_BGR2GRAY)\n",
    "\n",
    "# Apply thresholding to get a binary image\n",
    "_, binary_image = cv2.threshold(gray_image, 150, 255, cv2.THRESH_BINARY_INV)\n",
    "\n",
    "# Display the preprocessed image\n",
    "plt.imshow(binary_image, cmap='gray')\n",
    "plt.title('Binary Image')\n",
    "plt.axis('off')\n",
    "plt.show()"
   ]
  },
  {
   "cell_type": "code",
   "execution_count": null,
   "id": "0e6513e4-bcda-4dba-aa8e-311016a36e50",
   "metadata": {},
   "outputs": [],
   "source": [
    "# Initialize EasyOCR reader\n",
    "reader = easyocr.Reader(['en'])\n",
    "\n",
    "# Use EasyOCR to perform OCR on the image\n",
    "results = reader.readtext(binary_image)\n",
    "\n",
    "# Print the extracted text\n",
    "for (bbox, text, prob) in results:\n",
    "    print(f\"Detected text: {text} (Probability: {prob})\")"
   ]
  },
  {
   "cell_type": "code",
   "execution_count": null,
   "id": "12f0f306-3d9e-487f-86e5-2d2e42e3b639",
   "metadata": {},
   "outputs": [],
   "source": [
    "# Initialize a list to store detected four-digit numbers and their coordinates\n",
    "four_digit_numbers = []\n",
    "\n",
    "# Iterate over the results to extract coordinates and digits\n",
    "for (bbox, text, prob) in results:\n",
    "    if text.isdigit() and len(text) == 4:\n",
    "        (top_left, top_right, bottom_right, bottom_left) = bbox\n",
    "        x1, y1 = int(top_left[0]), int(top_left[1])\n",
    "        x2, y2 = int(bottom_right[0]), int(bottom_right[1])\n",
    "        # Store the bounding box and text\n",
    "        four_digit_numbers.append((text, x1, y1, x2, y2))\n",
    "\n",
    "# Print four-digit numbers and their coordinates\n",
    "for number, x1, y1, x2, y2 in four_digit_numbers:\n",
    "    print(f\"Four-digit number '{number}' found at coordinates (x1, y1, x2, y2): {x1}, {y1}, {x2}, {y2}\")"
   ]
  },
  {
   "cell_type": "code",
   "execution_count": null,
   "id": "455b9b4d-b0cd-45a2-a67b-4aa4209a559a",
   "metadata": {},
   "outputs": [],
   "source": [
    "# Draw rectangles around the detected numbers\n",
    "for number, x1, y1, x2, y2 in four_digit_numbers:\n",
    "    # Draw the rectangle\n",
    "    cv2.rectangle(image, (x1, y1), (x2, y2), (0, 255, 0), 2)\n",
    "    # Calculate the center coordinates\n",
    "    center_x = (x1 + x2) // 2\n",
    "    center_y = (y1 + y2) // 2\n",
    "    # Draw the center coordinates on the image\n",
    "    coordinates_text = f\"({center_x}, {center_y})\"\n",
    "    cv2.putText(image, coordinates_text, (x1, y1 - 10), cv2.FONT_HERSHEY_SIMPLEX, 0.5, (255, 0, 0), 1, cv2.LINE_AA)\n",
    "\n",
    "# Display the image with rectangles and coordinates\n",
    "plt.imshow(cv2.cvtColor(image, cv2.COLOR_BGR2RGB))\n",
    "plt.title('Image with Four-Digit Numbers Detected')\n",
    "plt.axis('off')\n",
    "plt.show()\n",
    "\n",
    "# Save the output image\n",
    "output_image_path = './Ships/Azamara-3711-output.png'\n",
    "cv2.imwrite(output_image_path, image)"
   ]
  }
 ],
 "metadata": {
  "kernelspec": {
   "display_name": "Python 3 (ipykernel)",
   "language": "python",
   "name": "python3"
  },
  "language_info": {
   "codemirror_mode": {
    "name": "ipython",
    "version": 3
   },
   "file_extension": ".py",
   "mimetype": "text/x-python",
   "name": "python",
   "nbconvert_exporter": "python",
   "pygments_lexer": "ipython3",
   "version": "3.11.7"
  }
 },
 "nbformat": 4,
 "nbformat_minor": 5
}
